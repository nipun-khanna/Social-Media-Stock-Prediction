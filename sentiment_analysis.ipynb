{
 "cells": [
  {
   "cell_type": "markdown",
   "metadata": {},
   "source": [
    "### Imports\n",
    "First is the importation of pandas for handling our data and NLTK, a natural language toolkit for Python. With the NLTK download function, VADER can be installed. The sentiment analyzer VADER is specifically trained on social media and news data, so it aligns well as a tool for extracting sentiment scores for each post."
   ]
  },
  {
   "cell_type": "code",
   "execution_count": 15,
   "metadata": {},
   "outputs": [
    {
     "name": "stderr",
     "output_type": "stream",
     "text": [
      "[nltk_data] Downloading package vader_lexicon to\n",
      "[nltk_data]     C:\\Users\\darks\\AppData\\Roaming\\nltk_data...\n",
      "[nltk_data]   Package vader_lexicon is already up-to-date!\n"
     ]
    },
    {
     "data": {
      "text/plain": [
       "True"
      ]
     },
     "execution_count": 15,
     "metadata": {},
     "output_type": "execute_result"
    }
   ],
   "source": [
    "import pandas\n",
    "import nltk\n",
    "from nltk.sentiment.vader import SentimentIntensityAnalyzer\n",
    "\n",
    "nltk.download(\"vader_lexicon\")"
   ]
  },
  {
   "cell_type": "markdown",
   "metadata": {},
   "source": [
    "### Setup\n",
    "\n",
    "Next, the preprocessed data is read into a DataFrame. A check punctuation function is also created to add punctuation to the end of a post title if necessary. The sentence break allows the sentiment analyzer to better parse the full text when the title and post body are joined."
   ]
  },
  {
   "cell_type": "code",
   "execution_count": 16,
   "metadata": {},
   "outputs": [],
   "source": [
    "scores = []\n",
    "df = pandas.read_csv(\"data/preprocessed_data.csv\")\n",
    "\n",
    "def checkPunctuation(title):\n",
    "    last = title[-1]\n",
    "    if last == \".\" or last == \"?\" or last == \"!\":\n",
    "        return title\n",
    "    else:\n",
    "        return title + \".\""
   ]
  },
  {
   "cell_type": "markdown",
   "metadata": {},
   "source": [
    "### Score Analysis\n",
    "With the data cleaned, each entry will have its title and body text joined and parsed. The sentiment analysis uses a lexicon-based approach to generate scores to be stored in a list. The compound score, which aggregates the total positive and negative sentiment, is added onto the dataframe as a new column."
   ]
  },
  {
   "cell_type": "code",
   "execution_count": 17,
   "metadata": {},
   "outputs": [],
   "source": [
    "for title, post_text in zip(df[\"Title\"], df[\"Text\"]):\n",
    "    body = \"\" if pandas.isna(post_text) else post_text\n",
    "    full_text = checkPunctuation(title) + \" \" + body\n",
    "    polarity_score = SentimentIntensityAnalyzer().polarity_scores(full_text)\n",
    "    scores.append(polarity_score)\n",
    "\n",
    "df[\"Sentiment\"] = pandas.DataFrame(scores)[\"compound\"]"
   ]
  },
  {
   "cell_type": "code",
   "execution_count": 18,
   "metadata": {},
   "outputs": [
    {
     "data": {
      "text/html": [
       "<div>\n",
       "<style scoped>\n",
       "    .dataframe tbody tr th:only-of-type {\n",
       "        vertical-align: middle;\n",
       "    }\n",
       "\n",
       "    .dataframe tbody tr th {\n",
       "        vertical-align: top;\n",
       "    }\n",
       "\n",
       "    .dataframe thead th {\n",
       "        text-align: right;\n",
       "    }\n",
       "</style>\n",
       "<table border=\"1\" class=\"dataframe\">\n",
       "  <thead>\n",
       "    <tr style=\"text-align: right;\">\n",
       "      <th></th>\n",
       "      <th>Id</th>\n",
       "      <th>Date</th>\n",
       "      <th>Title</th>\n",
       "      <th>Text</th>\n",
       "      <th>URL</th>\n",
       "      <th>Sentiment</th>\n",
       "    </tr>\n",
       "  </thead>\n",
       "  <tbody>\n",
       "    <tr>\n",
       "      <th>0</th>\n",
       "      <td>1g11s6m</td>\n",
       "      <td>2024-10-11</td>\n",
       "      <td>Tesla Robovan</td>\n",
       "      <td>NaN</td>\n",
       "      <td>https://v.redd.it/edo1hio122ud1</td>\n",
       "      <td>0.0000</td>\n",
       "    </tr>\n",
       "    <tr>\n",
       "      <th>1</th>\n",
       "      <td>1g3rnc9</td>\n",
       "      <td>2024-10-14</td>\n",
       "      <td>Tesla's $30,000 Robotaxi Hits Major Speed Bump...</td>\n",
       "      <td>NaN</td>\n",
       "      <td>https://www.forbes.com.au/news/innovation/tesl...</td>\n",
       "      <td>-0.1280</td>\n",
       "    </tr>\n",
       "    <tr>\n",
       "      <th>2</th>\n",
       "      <td>1grqiw1</td>\n",
       "      <td>2024-11-15</td>\n",
       "      <td>Those who think removing the EV tax credit wil...</td>\n",
       "      <td>1. Trump removes $7,500 EV tax credits and imp...</td>\n",
       "      <td>https://www.reddit.com/r/wallstreetbets/commen...</td>\n",
       "      <td>-0.6360</td>\n",
       "    </tr>\n",
       "    <tr>\n",
       "      <th>3</th>\n",
       "      <td>1hccdd0</td>\n",
       "      <td>2024-12-12</td>\n",
       "      <td>What it feels like shorting Tesla now... My pu...</td>\n",
       "      <td>NaN</td>\n",
       "      <td>https://i.redd.it/nmrpww419c6e1.jpeg</td>\n",
       "      <td>0.3612</td>\n",
       "    </tr>\n",
       "    <tr>\n",
       "      <th>4</th>\n",
       "      <td>1gu1zp8</td>\n",
       "      <td>2024-11-18</td>\n",
       "      <td>Tesla stock pops 8% in premarket after report ...</td>\n",
       "      <td>NaN</td>\n",
       "      <td>https://www.cnbc.com/2024/11/18/tesla-tsla-sto...</td>\n",
       "      <td>0.4404</td>\n",
       "    </tr>\n",
       "    <tr>\n",
       "      <th>...</th>\n",
       "      <td>...</td>\n",
       "      <td>...</td>\n",
       "      <td>...</td>\n",
       "      <td>...</td>\n",
       "      <td>...</td>\n",
       "      <td>...</td>\n",
       "    </tr>\n",
       "    <tr>\n",
       "      <th>1075</th>\n",
       "      <td>1buswl2</td>\n",
       "      <td>2024-04-03</td>\n",
       "      <td>Fancy Names Intel vs Carlisle</td>\n",
       "      <td>I’ve always been proud of owning Intel in a DR...</td>\n",
       "      <td>https://www.reddit.com/r/investing/comments/1b...</td>\n",
       "      <td>0.8271</td>\n",
       "    </tr>\n",
       "    <tr>\n",
       "      <th>1076</th>\n",
       "      <td>1akd4ss</td>\n",
       "      <td>2024-02-06</td>\n",
       "      <td>Roth IRA Advice needed please</td>\n",
       "      <td>Hello allI recently opened a Roth IRA account ...</td>\n",
       "      <td>https://www.reddit.com/r/investing/comments/1a...</td>\n",
       "      <td>0.7777</td>\n",
       "    </tr>\n",
       "    <tr>\n",
       "      <th>1077</th>\n",
       "      <td>1ay2itr</td>\n",
       "      <td>2024-02-23</td>\n",
       "      <td>Suggestions for selling stock</td>\n",
       "      <td>I have around $300k stock of the company I wor...</td>\n",
       "      <td>https://www.reddit.com/r/investing/comments/1a...</td>\n",
       "      <td>0.9100</td>\n",
       "    </tr>\n",
       "    <tr>\n",
       "      <th>1078</th>\n",
       "      <td>1axmuim</td>\n",
       "      <td>2024-02-23</td>\n",
       "      <td>I already have a Roth IRA, invest half of savi...</td>\n",
       "      <td>I’m 22, soon to be 23, and currently have $32,...</td>\n",
       "      <td>https://www.reddit.com/r/investing/comments/1a...</td>\n",
       "      <td>0.0000</td>\n",
       "    </tr>\n",
       "    <tr>\n",
       "      <th>1079</th>\n",
       "      <td>1augeb1</td>\n",
       "      <td>2024-02-19</td>\n",
       "      <td>How to find the leveraged ETF of any stock qui...</td>\n",
       "      <td>Let say, I want to buy the ETC Nx long / short...</td>\n",
       "      <td>https://www.reddit.com/r/investing/comments/1a...</td>\n",
       "      <td>0.2763</td>\n",
       "    </tr>\n",
       "  </tbody>\n",
       "</table>\n",
       "<p>1080 rows × 6 columns</p>\n",
       "</div>"
      ],
      "text/plain": [
       "           Id        Date                                              Title  \\\n",
       "0     1g11s6m  2024-10-11                                     Tesla Robovan    \n",
       "1     1g3rnc9  2024-10-14  Tesla's $30,000 Robotaxi Hits Major Speed Bump...   \n",
       "2     1grqiw1  2024-11-15  Those who think removing the EV tax credit wil...   \n",
       "3     1hccdd0  2024-12-12  What it feels like shorting Tesla now... My pu...   \n",
       "4     1gu1zp8  2024-11-18  Tesla stock pops 8% in premarket after report ...   \n",
       "...       ...         ...                                                ...   \n",
       "1075  1buswl2  2024-04-03                      Fancy Names Intel vs Carlisle   \n",
       "1076  1akd4ss  2024-02-06                      Roth IRA Advice needed please   \n",
       "1077  1ay2itr  2024-02-23                      Suggestions for selling stock   \n",
       "1078  1axmuim  2024-02-23  I already have a Roth IRA, invest half of savi...   \n",
       "1079  1augeb1  2024-02-19  How to find the leveraged ETF of any stock qui...   \n",
       "\n",
       "                                                   Text  \\\n",
       "0                                                   NaN   \n",
       "1                                                   NaN   \n",
       "2     1. Trump removes $7,500 EV tax credits and imp...   \n",
       "3                                                   NaN   \n",
       "4                                                   NaN   \n",
       "...                                                 ...   \n",
       "1075  I’ve always been proud of owning Intel in a DR...   \n",
       "1076  Hello allI recently opened a Roth IRA account ...   \n",
       "1077  I have around $300k stock of the company I wor...   \n",
       "1078  I’m 22, soon to be 23, and currently have $32,...   \n",
       "1079  Let say, I want to buy the ETC Nx long / short...   \n",
       "\n",
       "                                                    URL  Sentiment  \n",
       "0                       https://v.redd.it/edo1hio122ud1     0.0000  \n",
       "1     https://www.forbes.com.au/news/innovation/tesl...    -0.1280  \n",
       "2     https://www.reddit.com/r/wallstreetbets/commen...    -0.6360  \n",
       "3                  https://i.redd.it/nmrpww419c6e1.jpeg     0.3612  \n",
       "4     https://www.cnbc.com/2024/11/18/tesla-tsla-sto...     0.4404  \n",
       "...                                                 ...        ...  \n",
       "1075  https://www.reddit.com/r/investing/comments/1b...     0.8271  \n",
       "1076  https://www.reddit.com/r/investing/comments/1a...     0.7777  \n",
       "1077  https://www.reddit.com/r/investing/comments/1a...     0.9100  \n",
       "1078  https://www.reddit.com/r/investing/comments/1a...     0.0000  \n",
       "1079  https://www.reddit.com/r/investing/comments/1a...     0.2763  \n",
       "\n",
       "[1080 rows x 6 columns]"
      ]
     },
     "execution_count": 18,
     "metadata": {},
     "output_type": "execute_result"
    }
   ],
   "source": [
    "df"
   ]
  }
 ],
 "metadata": {
  "kernelspec": {
   "display_name": ".venv",
   "language": "python",
   "name": "python3"
  },
  "language_info": {
   "codemirror_mode": {
    "name": "ipython",
    "version": 3
   },
   "file_extension": ".py",
   "mimetype": "text/x-python",
   "name": "python",
   "nbconvert_exporter": "python",
   "pygments_lexer": "ipython3",
   "version": "3.11.4"
  }
 },
 "nbformat": 4,
 "nbformat_minor": 2
}
